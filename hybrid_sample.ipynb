{
  "nbformat": 4,
  "nbformat_minor": 0,
  "metadata": {
    "kernelspec": {
      "display_name": "Python 3",
      "language": "python",
      "name": "python3"
    },
    "language_info": {
      "codemirror_mode": {
        "name": "ipython",
        "version": 3
      },
      "file_extension": ".py",
      "mimetype": "text/x-python",
      "name": "python",
      "nbconvert_exporter": "python",
      "pygments_lexer": "ipython3",
      "version": "3.6.0"
    },
    "colab": {
      "name": "hybrid_sample.ipynb",
      "provenance": [],
      "include_colab_link": true
    }
  },
  "cells": [
    {
      "cell_type": "markdown",
      "metadata": {
        "id": "view-in-github",
        "colab_type": "text"
      },
      "source": [
        "<a href=\"https://colab.research.google.com/github/Zernach/BetterReads-DS/blob/master/hybrid_sample.ipynb\" target=\"_parent\"><img src=\"https://colab.research.google.com/assets/colab-badge.svg\" alt=\"Open In Colab\"/></a>"
      ]
    },
    {
      "cell_type": "code",
      "metadata": {
        "id": "19qPNIak1gPI",
        "colab_type": "code",
        "colab": {}
      },
      "source": [
        "%matplotlib inline\n",
        "import pandas as pd\n",
        "import numpy as np\n",
        "import matplotlib.pyplot as plt\n",
        "import seaborn as sns\n",
        "from scipy import stats\n",
        "from ast import literal_eval\n",
        "from sklearn.feature_extraction.text import TfidfVectorizer, CountVectorizer\n",
        "from sklearn.metrics.pairwise import linear_kernel, cosine_similarity\n",
        "from nltk.stem.snowball import SnowballStemmer\n",
        "from nltk.stem.wordnet import WordNetLemmatizer\n",
        "from nltk.corpus import wordnet\n",
        "\n",
        "!pip install scikit-surprise\n",
        "\n",
        "from surprise import Reader, Dataset, SVD\n",
        "from surprise.model_selection import cross_validate\n",
        "\n",
        "import warnings; warnings.simplefilter('ignore')"
      ],
      "execution_count": 0,
      "outputs": []
    },
    {
      "cell_type": "code",
      "metadata": {
        "id": "JNIdtGF3nkiw",
        "colab_type": "code",
        "colab": {}
      },
      "source": [
        "!curl --output movieLens.zip http://files.grouplens.org/datasets/movielens/ml-latest-small.zip"
      ],
      "execution_count": 0,
      "outputs": []
    },
    {
      "cell_type": "code",
      "metadata": {
        "id": "HsJTn79S5xEF",
        "colab_type": "code",
        "colab": {}
      },
      "source": [
        "!unzip movieLens.zip"
      ],
      "execution_count": 0,
      "outputs": []
    },
    {
      "cell_type": "markdown",
      "metadata": {
        "id": "jfwgS_ra1gSZ",
        "colab_type": "text"
      },
      "source": [
        "## Content Based Recommender \n",
        "This is the NLP part, uses only scikit learn tfidf to vectorize the genre description (this is pretty limited)"
      ]
    },
    {
      "cell_type": "code",
      "metadata": {
        "id": "P8dXAmdP1gSx",
        "colab_type": "code",
        "outputId": "e6e0944a-ffc9-429d-95a1-ec41072d38bc",
        "colab": {
          "base_uri": "https://localhost:8080/",
          "height": 206
        }
      },
      "source": [
        "smd = pd.read_csv('data/movies.csv')\n",
        "smd.head()"
      ],
      "execution_count": 0,
      "outputs": [
        {
          "output_type": "execute_result",
          "data": {
            "text/html": [
              "<div>\n",
              "<style scoped>\n",
              "    .dataframe tbody tr th:only-of-type {\n",
              "        vertical-align: middle;\n",
              "    }\n",
              "\n",
              "    .dataframe tbody tr th {\n",
              "        vertical-align: top;\n",
              "    }\n",
              "\n",
              "    .dataframe thead th {\n",
              "        text-align: right;\n",
              "    }\n",
              "</style>\n",
              "<table border=\"1\" class=\"dataframe\">\n",
              "  <thead>\n",
              "    <tr style=\"text-align: right;\">\n",
              "      <th></th>\n",
              "      <th>movieId</th>\n",
              "      <th>title</th>\n",
              "      <th>genres</th>\n",
              "    </tr>\n",
              "  </thead>\n",
              "  <tbody>\n",
              "    <tr>\n",
              "      <th>0</th>\n",
              "      <td>1</td>\n",
              "      <td>Toy Story (1995)</td>\n",
              "      <td>Adventure|Animation|Children|Comedy|Fantasy</td>\n",
              "    </tr>\n",
              "    <tr>\n",
              "      <th>1</th>\n",
              "      <td>2</td>\n",
              "      <td>Jumanji (1995)</td>\n",
              "      <td>Adventure|Children|Fantasy</td>\n",
              "    </tr>\n",
              "    <tr>\n",
              "      <th>2</th>\n",
              "      <td>3</td>\n",
              "      <td>Grumpier Old Men (1995)</td>\n",
              "      <td>Comedy|Romance</td>\n",
              "    </tr>\n",
              "    <tr>\n",
              "      <th>3</th>\n",
              "      <td>4</td>\n",
              "      <td>Waiting to Exhale (1995)</td>\n",
              "      <td>Comedy|Drama|Romance</td>\n",
              "    </tr>\n",
              "    <tr>\n",
              "      <th>4</th>\n",
              "      <td>5</td>\n",
              "      <td>Father of the Bride Part II (1995)</td>\n",
              "      <td>Comedy</td>\n",
              "    </tr>\n",
              "  </tbody>\n",
              "</table>\n",
              "</div>"
            ],
            "text/plain": [
              "   movieId  ...                                       genres\n",
              "0        1  ...  Adventure|Animation|Children|Comedy|Fantasy\n",
              "1        2  ...                   Adventure|Children|Fantasy\n",
              "2        3  ...                               Comedy|Romance\n",
              "3        4  ...                         Comedy|Drama|Romance\n",
              "4        5  ...                                       Comedy\n",
              "\n",
              "[5 rows x 3 columns]"
            ]
          },
          "metadata": {
            "tags": []
          },
          "execution_count": 6
        }
      ]
    },
    {
      "cell_type": "code",
      "metadata": {
        "id": "jAtUwy_xCDg3",
        "colab_type": "code",
        "outputId": "c5783ff1-988b-4580-91ee-5ad51cc5fdc3",
        "colab": {
          "base_uri": "https://localhost:8080/",
          "height": 35
        }
      },
      "source": [
        "smd.shape"
      ],
      "execution_count": 0,
      "outputs": [
        {
          "output_type": "execute_result",
          "data": {
            "text/plain": [
              "(9742, 3)"
            ]
          },
          "metadata": {
            "tags": []
          },
          "execution_count": 8
        }
      ]
    },
    {
      "cell_type": "code",
      "metadata": {
        "id": "aL75aZVh_I3s",
        "colab_type": "code",
        "colab": {}
      },
      "source": [
        "# Remove the pipe to make it easier for tfidf to parse\n",
        "smd['genres'] = smd['genres'].str.replace('|', ' ')"
      ],
      "execution_count": 0,
      "outputs": []
    },
    {
      "cell_type": "code",
      "metadata": {
        "id": "vgMN4wq9_Ubc",
        "colab_type": "code",
        "outputId": "fb62b74b-a6a1-44e6-a6a9-6dd3a88fb75c",
        "colab": {
          "base_uri": "https://localhost:8080/",
          "height": 90
        }
      },
      "source": [
        "smd.isnull().sum()"
      ],
      "execution_count": 0,
      "outputs": [
        {
          "output_type": "execute_result",
          "data": {
            "text/plain": [
              "movieId    0\n",
              "title      0\n",
              "genres     0\n",
              "dtype: int64"
            ]
          },
          "metadata": {
            "tags": []
          },
          "execution_count": 10
        }
      ]
    },
    {
      "cell_type": "markdown",
      "metadata": {
        "id": "7egijyc91gS6",
        "colab_type": "text"
      },
      "source": [
        "### Description Based \n",
        "\n"
      ]
    },
    {
      "cell_type": "code",
      "metadata": {
        "id": "WEIvrrpG1gS8",
        "colab_type": "code",
        "outputId": "419ae124-012c-4111-e73f-a962bd664d86",
        "colab": {
          "base_uri": "https://localhost:8080/",
          "height": 206
        }
      },
      "source": [
        "# Change the \"genre\" column to \"description\"\n",
        "smd['description'] = smd['genres'] \n",
        "smd = smd.drop(columns=['genres'])\n",
        "smd.head()"
      ],
      "execution_count": 0,
      "outputs": [
        {
          "output_type": "execute_result",
          "data": {
            "text/html": [
              "<div>\n",
              "<style scoped>\n",
              "    .dataframe tbody tr th:only-of-type {\n",
              "        vertical-align: middle;\n",
              "    }\n",
              "\n",
              "    .dataframe tbody tr th {\n",
              "        vertical-align: top;\n",
              "    }\n",
              "\n",
              "    .dataframe thead th {\n",
              "        text-align: right;\n",
              "    }\n",
              "</style>\n",
              "<table border=\"1\" class=\"dataframe\">\n",
              "  <thead>\n",
              "    <tr style=\"text-align: right;\">\n",
              "      <th></th>\n",
              "      <th>movieId</th>\n",
              "      <th>title</th>\n",
              "      <th>description</th>\n",
              "    </tr>\n",
              "  </thead>\n",
              "  <tbody>\n",
              "    <tr>\n",
              "      <th>0</th>\n",
              "      <td>1</td>\n",
              "      <td>Toy Story (1995)</td>\n",
              "      <td>Adventure Animation Children Comedy Fantasy</td>\n",
              "    </tr>\n",
              "    <tr>\n",
              "      <th>1</th>\n",
              "      <td>2</td>\n",
              "      <td>Jumanji (1995)</td>\n",
              "      <td>Adventure Children Fantasy</td>\n",
              "    </tr>\n",
              "    <tr>\n",
              "      <th>2</th>\n",
              "      <td>3</td>\n",
              "      <td>Grumpier Old Men (1995)</td>\n",
              "      <td>Comedy Romance</td>\n",
              "    </tr>\n",
              "    <tr>\n",
              "      <th>3</th>\n",
              "      <td>4</td>\n",
              "      <td>Waiting to Exhale (1995)</td>\n",
              "      <td>Comedy Drama Romance</td>\n",
              "    </tr>\n",
              "    <tr>\n",
              "      <th>4</th>\n",
              "      <td>5</td>\n",
              "      <td>Father of the Bride Part II (1995)</td>\n",
              "      <td>Comedy</td>\n",
              "    </tr>\n",
              "  </tbody>\n",
              "</table>\n",
              "</div>"
            ],
            "text/plain": [
              "   movieId  ...                                  description\n",
              "0        1  ...  Adventure Animation Children Comedy Fantasy\n",
              "1        2  ...                   Adventure Children Fantasy\n",
              "2        3  ...                               Comedy Romance\n",
              "3        4  ...                         Comedy Drama Romance\n",
              "4        5  ...                                       Comedy\n",
              "\n",
              "[5 rows x 3 columns]"
            ]
          },
          "metadata": {
            "tags": []
          },
          "execution_count": 14
        }
      ]
    },
    {
      "cell_type": "code",
      "metadata": {
        "id": "cfg_UveH1gTF",
        "colab_type": "code",
        "colab": {}
      },
      "source": [
        "# Create tfidf matrix\n",
        "tf = TfidfVectorizer(analyzer='word',ngram_range=(1, 2),min_df=0, stop_words='english')\n",
        "tfidf_matrix = tf.fit_transform(smd['description'])"
      ],
      "execution_count": 0,
      "outputs": []
    },
    {
      "cell_type": "code",
      "metadata": {
        "id": "3zINrbDw1gTL",
        "colab_type": "code",
        "outputId": "fd76ea73-f62c-4254-9040-e8bd072dd297",
        "colab": {
          "base_uri": "https://localhost:8080/",
          "height": 35
        }
      },
      "source": [
        "tfidf_matrix.shape"
      ],
      "execution_count": 0,
      "outputs": [
        {
          "output_type": "execute_result",
          "data": {
            "text/plain": [
              "(9742, 177)"
            ]
          },
          "metadata": {
            "tags": []
          },
          "execution_count": 17
        }
      ]
    },
    {
      "cell_type": "markdown",
      "metadata": {
        "id": "dfmFJ0M_1gTW",
        "colab_type": "text"
      },
      "source": [
        "#### Cosine Similarity\n"
      ]
    },
    {
      "cell_type": "code",
      "metadata": {
        "id": "N0-H9fyK1gTY",
        "colab_type": "code",
        "colab": {}
      },
      "source": [
        "# get cosine similarity, use linear_kernel since calculating dot product\n",
        "# from tfidf already gives a cosine similarity score\n",
        "cosine_sim = linear_kernel(tfidf_matrix, tfidf_matrix)"
      ],
      "execution_count": 0,
      "outputs": []
    },
    {
      "cell_type": "code",
      "metadata": {
        "id": "-OeJ4qhA1gTg",
        "colab_type": "code",
        "outputId": "58799489-aab9-434c-cdfb-a5dc228803e0",
        "colab": {
          "base_uri": "https://localhost:8080/",
          "height": 54
        }
      },
      "source": [
        "cosine_sim[0]"
      ],
      "execution_count": 0,
      "outputs": [
        {
          "output_type": "execute_result",
          "data": {
            "text/plain": [
              "array([1.        , 0.31379419, 0.0611029 , ..., 0.        , 0.16123168,\n",
              "       0.16761358])"
            ]
          },
          "metadata": {
            "tags": []
          },
          "execution_count": 19
        }
      ]
    },
    {
      "cell_type": "markdown",
      "metadata": {
        "id": "vlTWcGZs1gTn",
        "colab_type": "text"
      },
      "source": [
        "We now have a pairwise cosine similarity matrix for all the movies in our dataset. The next step is to write a function that returns the 30 most similar movies based on the cosine similarity score."
      ]
    },
    {
      "cell_type": "code",
      "metadata": {
        "id": "J2MZYHTz1gTp",
        "colab_type": "code",
        "colab": {}
      },
      "source": [
        "# Create an index map for movies so we can access them by\n",
        "# title later\n",
        "smdcop = smd.copy().reset_index()\n",
        "titles = smdcop['title']\n",
        "indices = pd.Series(smd.index, index=smdcop['title'])"
      ],
      "execution_count": 0,
      "outputs": []
    },
    {
      "cell_type": "code",
      "metadata": {
        "id": "ez5COPun1gTx",
        "colab_type": "code",
        "colab": {}
      },
      "source": [
        "def get_recommendations(title):\n",
        "    \"\"\"Get recommendations based on similarity score\"\"\"\n",
        "    idx = indices[title]\n",
        "    sim_scores = list(enumerate(cosine_sim[idx]))\n",
        "    sim_scores = sorted(sim_scores, key=lambda x: x[1], reverse=True)\n",
        "    sim_scores = sim_scores[1:31]\n",
        "    movie_indices = [i[0] for i in sim_scores]\n",
        "    return titles.iloc[movie_indices]"
      ],
      "execution_count": 0,
      "outputs": []
    },
    {
      "cell_type": "markdown",
      "metadata": {
        "id": "VAKbH3gr8HZH",
        "colab_type": "text"
      },
      "source": [
        "Getting Recommendations based on simple genre tags (\"description\"). Just a basic example"
      ]
    },
    {
      "cell_type": "code",
      "metadata": {
        "id": "Jf1IwWa31gT3",
        "colab_type": "code",
        "outputId": "5f184163-38a1-42de-b63d-54e14dff6ca9",
        "colab": {
          "base_uri": "https://localhost:8080/",
          "height": 219
        }
      },
      "source": [
        "get_recommendations('Jurassic Park (1993)').head(10)"
      ],
      "execution_count": 0,
      "outputs": [
        {
          "output_type": "execute_result",
          "data": {
            "text/plain": [
              "615       Independence Day (a.k.a. ID4) (1996)\n",
              "656                    Escape from L.A. (1996)\n",
              "856                          Abyss, The (1989)\n",
              "858                Escape from New York (1981)\n",
              "1044           Star Trek: First Contact (1996)\n",
              "1057    Star Trek II: The Wrath of Khan (1982)\n",
              "1164     Lost World: Jurassic Park, The (1997)\n",
              "1194                              Spawn (1997)\n",
              "2193                       Total Recall (1990)\n",
              "2712                          Moonraker (1979)\n",
              "Name: title, dtype: object"
            ]
          },
          "metadata": {
            "tags": []
          },
          "execution_count": 41
        }
      ]
    },
    {
      "cell_type": "code",
      "metadata": {
        "id": "4VSNrdXu1gT-",
        "colab_type": "code",
        "outputId": "d45f8882-63a1-42a3-f2e6-663b57e84912",
        "colab": {
          "base_uri": "https://localhost:8080/",
          "height": 219
        }
      },
      "source": [
        "get_recommendations('Aladdin (1992)').head(10)"
      ],
      "execution_count": 0,
      "outputs": [
        {
          "output_type": "execute_result",
          "data": {
            "text/plain": [
              "578                            Oliver & Company (1988)\n",
              "1177                                   Hercules (1997)\n",
              "2287                                 Robin Hood (1973)\n",
              "1543                           Jungle Book, The (1967)\n",
              "1564                           Steamboat Willie (1928)\n",
              "3727             Ferngully: The Last Rainforest (1992)\n",
              "5232        Claymation Christmas Celebration, A (1987)\n",
              "7216    Alvin and the Chipmunks: The Squeakquel (2009)\n",
              "8275               All Dogs Christmas Carol, An (1998)\n",
              "5160                                    Shrek 2 (2004)\n",
              "Name: title, dtype: object"
            ]
          },
          "metadata": {
            "tags": []
          },
          "execution_count": 44
        }
      ]
    },
    {
      "cell_type": "markdown",
      "metadata": {
        "id": "Mcbd36GY1gWz",
        "colab_type": "text"
      },
      "source": [
        "## Collaborative Filtering\n",
        "This piece uses the surprise library to get off-the-shelf collaborative filtering using SVD (singular value decomposition)\n"
      ]
    },
    {
      "cell_type": "code",
      "metadata": {
        "id": "MzrEOo361gW0",
        "colab_type": "code",
        "colab": {}
      },
      "source": [
        "reader = Reader()"
      ],
      "execution_count": 0,
      "outputs": []
    },
    {
      "cell_type": "code",
      "metadata": {
        "id": "ZTkgbs9H1gW5",
        "colab_type": "code",
        "outputId": "36811b59-09b6-4778-ebc5-81c67e52f691",
        "colab": {
          "base_uri": "https://localhost:8080/",
          "height": 206
        }
      },
      "source": [
        "ratings = pd.read_csv('data/ratings.csv')\n",
        "ratings.head()"
      ],
      "execution_count": 0,
      "outputs": [
        {
          "output_type": "execute_result",
          "data": {
            "text/html": [
              "<div>\n",
              "<style scoped>\n",
              "    .dataframe tbody tr th:only-of-type {\n",
              "        vertical-align: middle;\n",
              "    }\n",
              "\n",
              "    .dataframe tbody tr th {\n",
              "        vertical-align: top;\n",
              "    }\n",
              "\n",
              "    .dataframe thead th {\n",
              "        text-align: right;\n",
              "    }\n",
              "</style>\n",
              "<table border=\"1\" class=\"dataframe\">\n",
              "  <thead>\n",
              "    <tr style=\"text-align: right;\">\n",
              "      <th></th>\n",
              "      <th>userId</th>\n",
              "      <th>movieId</th>\n",
              "      <th>rating</th>\n",
              "      <th>timestamp</th>\n",
              "    </tr>\n",
              "  </thead>\n",
              "  <tbody>\n",
              "    <tr>\n",
              "      <th>0</th>\n",
              "      <td>1</td>\n",
              "      <td>1</td>\n",
              "      <td>4.0</td>\n",
              "      <td>964982703</td>\n",
              "    </tr>\n",
              "    <tr>\n",
              "      <th>1</th>\n",
              "      <td>1</td>\n",
              "      <td>3</td>\n",
              "      <td>4.0</td>\n",
              "      <td>964981247</td>\n",
              "    </tr>\n",
              "    <tr>\n",
              "      <th>2</th>\n",
              "      <td>1</td>\n",
              "      <td>6</td>\n",
              "      <td>4.0</td>\n",
              "      <td>964982224</td>\n",
              "    </tr>\n",
              "    <tr>\n",
              "      <th>3</th>\n",
              "      <td>1</td>\n",
              "      <td>47</td>\n",
              "      <td>5.0</td>\n",
              "      <td>964983815</td>\n",
              "    </tr>\n",
              "    <tr>\n",
              "      <th>4</th>\n",
              "      <td>1</td>\n",
              "      <td>50</td>\n",
              "      <td>5.0</td>\n",
              "      <td>964982931</td>\n",
              "    </tr>\n",
              "  </tbody>\n",
              "</table>\n",
              "</div>"
            ],
            "text/plain": [
              "   userId  movieId  rating  timestamp\n",
              "0       1        1     4.0  964982703\n",
              "1       1        3     4.0  964981247\n",
              "2       1        6     4.0  964982224\n",
              "3       1       47     5.0  964983815\n",
              "4       1       50     5.0  964982931"
            ]
          },
          "metadata": {
            "tags": []
          },
          "execution_count": 53
        }
      ]
    },
    {
      "cell_type": "code",
      "metadata": {
        "id": "tG_j0zon1gW9",
        "colab_type": "code",
        "colab": {}
      },
      "source": [
        "data = Dataset.load_from_df(ratings[['userId', 'movieId', 'rating']], reader)"
      ],
      "execution_count": 0,
      "outputs": []
    },
    {
      "cell_type": "code",
      "metadata": {
        "id": "5D2Pdkpi1gXA",
        "colab_type": "code",
        "outputId": "378b4270-5cd9-4395-b032-a8c7841d01bb",
        "colab": {
          "base_uri": "https://localhost:8080/",
          "height": 366
        }
      },
      "source": [
        "svd = SVD()\n",
        "\n",
        "# Cross validate using SVD for evaluation\n",
        "cross_validate(svd, data, measures=['RMSE', 'MAE'], cv=5, verbose=True)"
      ],
      "execution_count": 0,
      "outputs": [
        {
          "output_type": "stream",
          "text": [
            "Evaluating RMSE, MAE of algorithm SVD on 5 split(s).\n",
            "\n",
            "                  Fold 1  Fold 2  Fold 3  Fold 4  Fold 5  Mean    Std     \n",
            "RMSE (testset)    0.8778  0.8793  0.8716  0.8638  0.8740  0.8733  0.0055  \n",
            "MAE (testset)     0.6738  0.6763  0.6708  0.6632  0.6725  0.6713  0.0044  \n",
            "Fit time          4.63    4.59    4.64    4.58    4.61    4.61    0.02    \n",
            "Test time         0.14    0.14    0.14    0.24    0.14    0.16    0.04    \n"
          ],
          "name": "stdout"
        },
        {
          "output_type": "execute_result",
          "data": {
            "text/plain": [
              "{'fit_time': (4.627185821533203,\n",
              "  4.593142509460449,\n",
              "  4.643988370895386,\n",
              "  4.576023101806641,\n",
              "  4.614572525024414),\n",
              " 'test_mae': array([0.67381364, 0.6762578 , 0.67076808, 0.66315986, 0.67248728]),\n",
              " 'test_rmse': array([0.87778543, 0.8792761 , 0.87156758, 0.86379673, 0.8739533 ]),\n",
              " 'test_time': (0.13834142684936523,\n",
              "  0.13794636726379395,\n",
              "  0.13556718826293945,\n",
              "  0.23809576034545898,\n",
              "  0.13572955131530762)}"
            ]
          },
          "metadata": {
            "tags": []
          },
          "execution_count": 55
        }
      ]
    },
    {
      "cell_type": "code",
      "metadata": {
        "id": "EfbK77xC1gXF",
        "colab_type": "code",
        "colab": {}
      },
      "source": [
        "# build a training data set based on the data we fed the \n",
        "# surprise reader\n",
        "trainset = data.build_full_trainset()"
      ],
      "execution_count": 0,
      "outputs": []
    },
    {
      "cell_type": "code",
      "metadata": {
        "id": "wemwx612F4ru",
        "colab_type": "code",
        "outputId": "d0446664-9f22-44ba-da6e-451313038409",
        "colab": {
          "base_uri": "https://localhost:8080/",
          "height": 35
        }
      },
      "source": [
        "# fit the training data to make predictions later\n",
        "svd.fit(trainset)"
      ],
      "execution_count": 0,
      "outputs": [
        {
          "output_type": "execute_result",
          "data": {
            "text/plain": [
              "<surprise.prediction_algorithms.matrix_factorization.SVD at 0x7fbfbd67f0f0>"
            ]
          },
          "metadata": {
            "tags": []
          },
          "execution_count": 58
        }
      ]
    },
    {
      "cell_type": "markdown",
      "metadata": {
        "id": "yom4GARA1gXN",
        "colab_type": "text"
      },
      "source": [
        "Predicted ratings for one particular user:\n",
        "\n"
      ]
    },
    {
      "cell_type": "code",
      "metadata": {
        "id": "NSHkgDFs1gXO",
        "colab_type": "code",
        "outputId": "3b3dabff-8737-45c9-dd08-d64dddf4d3f5",
        "colab": {
          "base_uri": "https://localhost:8080/",
          "height": 424
        }
      },
      "source": [
        "ratings[ratings['userId'] == 1]"
      ],
      "execution_count": 0,
      "outputs": [
        {
          "output_type": "execute_result",
          "data": {
            "text/html": [
              "<div>\n",
              "<style scoped>\n",
              "    .dataframe tbody tr th:only-of-type {\n",
              "        vertical-align: middle;\n",
              "    }\n",
              "\n",
              "    .dataframe tbody tr th {\n",
              "        vertical-align: top;\n",
              "    }\n",
              "\n",
              "    .dataframe thead th {\n",
              "        text-align: right;\n",
              "    }\n",
              "</style>\n",
              "<table border=\"1\" class=\"dataframe\">\n",
              "  <thead>\n",
              "    <tr style=\"text-align: right;\">\n",
              "      <th></th>\n",
              "      <th>userId</th>\n",
              "      <th>movieId</th>\n",
              "      <th>rating</th>\n",
              "      <th>timestamp</th>\n",
              "    </tr>\n",
              "  </thead>\n",
              "  <tbody>\n",
              "    <tr>\n",
              "      <th>0</th>\n",
              "      <td>1</td>\n",
              "      <td>1</td>\n",
              "      <td>4.0</td>\n",
              "      <td>964982703</td>\n",
              "    </tr>\n",
              "    <tr>\n",
              "      <th>1</th>\n",
              "      <td>1</td>\n",
              "      <td>3</td>\n",
              "      <td>4.0</td>\n",
              "      <td>964981247</td>\n",
              "    </tr>\n",
              "    <tr>\n",
              "      <th>2</th>\n",
              "      <td>1</td>\n",
              "      <td>6</td>\n",
              "      <td>4.0</td>\n",
              "      <td>964982224</td>\n",
              "    </tr>\n",
              "    <tr>\n",
              "      <th>3</th>\n",
              "      <td>1</td>\n",
              "      <td>47</td>\n",
              "      <td>5.0</td>\n",
              "      <td>964983815</td>\n",
              "    </tr>\n",
              "    <tr>\n",
              "      <th>4</th>\n",
              "      <td>1</td>\n",
              "      <td>50</td>\n",
              "      <td>5.0</td>\n",
              "      <td>964982931</td>\n",
              "    </tr>\n",
              "    <tr>\n",
              "      <th>...</th>\n",
              "      <td>...</td>\n",
              "      <td>...</td>\n",
              "      <td>...</td>\n",
              "      <td>...</td>\n",
              "    </tr>\n",
              "    <tr>\n",
              "      <th>227</th>\n",
              "      <td>1</td>\n",
              "      <td>3744</td>\n",
              "      <td>4.0</td>\n",
              "      <td>964980694</td>\n",
              "    </tr>\n",
              "    <tr>\n",
              "      <th>228</th>\n",
              "      <td>1</td>\n",
              "      <td>3793</td>\n",
              "      <td>5.0</td>\n",
              "      <td>964981855</td>\n",
              "    </tr>\n",
              "    <tr>\n",
              "      <th>229</th>\n",
              "      <td>1</td>\n",
              "      <td>3809</td>\n",
              "      <td>4.0</td>\n",
              "      <td>964981220</td>\n",
              "    </tr>\n",
              "    <tr>\n",
              "      <th>230</th>\n",
              "      <td>1</td>\n",
              "      <td>4006</td>\n",
              "      <td>4.0</td>\n",
              "      <td>964982903</td>\n",
              "    </tr>\n",
              "    <tr>\n",
              "      <th>231</th>\n",
              "      <td>1</td>\n",
              "      <td>5060</td>\n",
              "      <td>5.0</td>\n",
              "      <td>964984002</td>\n",
              "    </tr>\n",
              "  </tbody>\n",
              "</table>\n",
              "<p>232 rows × 4 columns</p>\n",
              "</div>"
            ],
            "text/plain": [
              "     userId  movieId  rating  timestamp\n",
              "0         1        1     4.0  964982703\n",
              "1         1        3     4.0  964981247\n",
              "2         1        6     4.0  964982224\n",
              "3         1       47     5.0  964983815\n",
              "4         1       50     5.0  964982931\n",
              "..      ...      ...     ...        ...\n",
              "227       1     3744     4.0  964980694\n",
              "228       1     3793     5.0  964981855\n",
              "229       1     3809     4.0  964981220\n",
              "230       1     4006     4.0  964982903\n",
              "231       1     5060     5.0  964984002\n",
              "\n",
              "[232 rows x 4 columns]"
            ]
          },
          "metadata": {
            "tags": []
          },
          "execution_count": 59
        }
      ]
    },
    {
      "cell_type": "code",
      "metadata": {
        "id": "Yp7HRFF41gXS",
        "colab_type": "code",
        "outputId": "9beb0588-14e4-4906-a20b-d77a07426886",
        "colab": {
          "base_uri": "https://localhost:8080/",
          "height": 35
        }
      },
      "source": [
        "uid, iid, r_ui, est, details = svd.predict(1, 302)\n",
        "\n",
        "print(\"For user #{0}, the predicted rating for item {1} is {2}\"\n",
        "      .format(uid, iid, round(est, 2))\n",
        ")"
      ],
      "execution_count": 0,
      "outputs": [
        {
          "output_type": "stream",
          "text": [
            "For user #1, the predicted rating for item 302 is 4.15\n"
          ],
          "name": "stdout"
        }
      ]
    },
    {
      "cell_type": "markdown",
      "metadata": {
        "id": "sl1U2J-a1gXV",
        "colab_type": "text"
      },
      "source": [
        "For movie with ID 302, we get an estimated prediction of **2.686**. One startling feature of this recommender system is that it doesn't care what the movie is (or what it contains). It works purely on the basis of an assigned movie ID and tries to predict ratings based on how the other users have predicted the movie."
      ]
    },
    {
      "cell_type": "markdown",
      "metadata": {
        "id": "H7QilKCa1gXW",
        "colab_type": "text"
      },
      "source": [
        "## Hybrid Recommender\n",
        "\n",
        "![](https://www.toonpool.com/user/250/files/hybrid_20095.jpg)"
      ]
    },
    {
      "cell_type": "markdown",
      "metadata": {
        "id": "Bee1gtnV1gXY",
        "colab_type": "text"
      },
      "source": [
        "In this section, I will try to build a simple hybrid recommender that brings together techniques we have implemented in the content based and collaborative filter based engines. This is how it will work:\n",
        "\n",
        "* **Input:** User ID and the Title of a Movie\n",
        "* **Output:** Similar movies sorted on the basis of expected ratings by that particular user."
      ]
    },
    {
      "cell_type": "code",
      "metadata": {
        "id": "DEsm--RRG5YJ",
        "colab_type": "code",
        "colab": {}
      },
      "source": [
        "# use 'id' in place of 'movieId' (this was to help me understand the code)\n",
        "smd['id'] = smd['movieId']"
      ],
      "execution_count": 0,
      "outputs": []
    },
    {
      "cell_type": "code",
      "metadata": {
        "id": "Lb81YvR4GX6Q",
        "colab_type": "code",
        "outputId": "4b24ad22-f10c-4a6f-9348-72d23ebcb7c5",
        "colab": {
          "base_uri": "https://localhost:8080/",
          "height": 206
        }
      },
      "source": [
        "# didn't really end up using tmdbId\n",
        "links = pd.read_csv('data/links.csv')\n",
        "links['tmdbId'] = links['tmdbId'].fillna(1000000).astype(int)\n",
        "links.head()"
      ],
      "execution_count": 0,
      "outputs": [
        {
          "output_type": "execute_result",
          "data": {
            "text/html": [
              "<div>\n",
              "<style scoped>\n",
              "    .dataframe tbody tr th:only-of-type {\n",
              "        vertical-align: middle;\n",
              "    }\n",
              "\n",
              "    .dataframe tbody tr th {\n",
              "        vertical-align: top;\n",
              "    }\n",
              "\n",
              "    .dataframe thead th {\n",
              "        text-align: right;\n",
              "    }\n",
              "</style>\n",
              "<table border=\"1\" class=\"dataframe\">\n",
              "  <thead>\n",
              "    <tr style=\"text-align: right;\">\n",
              "      <th></th>\n",
              "      <th>movieId</th>\n",
              "      <th>imdbId</th>\n",
              "      <th>tmdbId</th>\n",
              "    </tr>\n",
              "  </thead>\n",
              "  <tbody>\n",
              "    <tr>\n",
              "      <th>0</th>\n",
              "      <td>1</td>\n",
              "      <td>114709</td>\n",
              "      <td>862</td>\n",
              "    </tr>\n",
              "    <tr>\n",
              "      <th>1</th>\n",
              "      <td>2</td>\n",
              "      <td>113497</td>\n",
              "      <td>8844</td>\n",
              "    </tr>\n",
              "    <tr>\n",
              "      <th>2</th>\n",
              "      <td>3</td>\n",
              "      <td>113228</td>\n",
              "      <td>15602</td>\n",
              "    </tr>\n",
              "    <tr>\n",
              "      <th>3</th>\n",
              "      <td>4</td>\n",
              "      <td>114885</td>\n",
              "      <td>31357</td>\n",
              "    </tr>\n",
              "    <tr>\n",
              "      <th>4</th>\n",
              "      <td>5</td>\n",
              "      <td>113041</td>\n",
              "      <td>11862</td>\n",
              "    </tr>\n",
              "  </tbody>\n",
              "</table>\n",
              "</div>"
            ],
            "text/plain": [
              "   movieId  imdbId  tmdbId\n",
              "0        1  114709     862\n",
              "1        2  113497    8844\n",
              "2        3  113228   15602\n",
              "3        4  114885   31357\n",
              "4        5  113041   11862"
            ]
          },
          "metadata": {
            "tags": []
          },
          "execution_count": 63
        }
      ]
    },
    {
      "cell_type": "code",
      "metadata": {
        "id": "MVuSoABJ1gXj",
        "colab_type": "code",
        "colab": {}
      },
      "source": [
        "# run this cell just in case, but I don't think it's necessary\n",
        "id_map = pd.read_csv('data/links.csv')[['movieId', 'tmdbId']]\n",
        "id_map['tmdbId'] = id_map['tmdbId'].apply(convert_int)\n",
        "id_map.columns = ['movieId', 'id']\n",
        "id_map = id_map.merge(smd[['title', 'id']], on='id').set_index('title')"
      ],
      "execution_count": 0,
      "outputs": []
    },
    {
      "cell_type": "code",
      "metadata": {
        "id": "OohxfZ_N1gXm",
        "colab_type": "code",
        "colab": {}
      },
      "source": [
        "# run this cell just in case, but I don't think it's necessary\n",
        "indices_map = id_map.set_index('id')"
      ],
      "execution_count": 0,
      "outputs": []
    },
    {
      "cell_type": "code",
      "metadata": {
        "id": "Tq4766bnHDqq",
        "colab_type": "code",
        "outputId": "af7c2325-7247-4f84-85c1-50e7959fa0b7",
        "colab": {
          "base_uri": "https://localhost:8080/",
          "height": 455
        }
      },
      "source": [
        "# the last two cells are just mapping the index to the movie id;\n",
        "# the small movieLens dataset has a lot of movies removed (to make\n",
        "# the file smaller)\n",
        "indices_map"
      ],
      "execution_count": 0,
      "outputs": [
        {
          "output_type": "execute_result",
          "data": {
            "text/html": [
              "<div>\n",
              "<style scoped>\n",
              "    .dataframe tbody tr th:only-of-type {\n",
              "        vertical-align: middle;\n",
              "    }\n",
              "\n",
              "    .dataframe tbody tr th {\n",
              "        vertical-align: top;\n",
              "    }\n",
              "\n",
              "    .dataframe thead th {\n",
              "        text-align: right;\n",
              "    }\n",
              "</style>\n",
              "<table border=\"1\" class=\"dataframe\">\n",
              "  <thead>\n",
              "    <tr style=\"text-align: right;\">\n",
              "      <th></th>\n",
              "      <th>movieId</th>\n",
              "    </tr>\n",
              "    <tr>\n",
              "      <th>id</th>\n",
              "      <th></th>\n",
              "    </tr>\n",
              "  </thead>\n",
              "  <tbody>\n",
              "    <tr>\n",
              "      <th>8844</th>\n",
              "      <td>2</td>\n",
              "    </tr>\n",
              "    <tr>\n",
              "      <th>949</th>\n",
              "      <td>6</td>\n",
              "    </tr>\n",
              "    <tr>\n",
              "      <th>710</th>\n",
              "      <td>10</td>\n",
              "    </tr>\n",
              "    <tr>\n",
              "      <th>1408</th>\n",
              "      <td>15</td>\n",
              "    </tr>\n",
              "    <tr>\n",
              "      <th>524</th>\n",
              "      <td>16</td>\n",
              "    </tr>\n",
              "    <tr>\n",
              "      <th>...</th>\n",
              "      <td>...</td>\n",
              "    </tr>\n",
              "    <tr>\n",
              "      <th>44238</th>\n",
              "      <td>158398</td>\n",
              "    </tr>\n",
              "    <tr>\n",
              "      <th>5434</th>\n",
              "      <td>159510</td>\n",
              "    </tr>\n",
              "    <tr>\n",
              "      <th>26797</th>\n",
              "      <td>169912</td>\n",
              "    </tr>\n",
              "    <tr>\n",
              "      <th>129229</th>\n",
              "      <td>170597</td>\n",
              "    </tr>\n",
              "    <tr>\n",
              "      <th>4835</th>\n",
              "      <td>179073</td>\n",
              "    </tr>\n",
              "  </tbody>\n",
              "</table>\n",
              "<p>1474 rows × 1 columns</p>\n",
              "</div>"
            ],
            "text/plain": [
              "        movieId\n",
              "id             \n",
              "8844          2\n",
              "949           6\n",
              "710          10\n",
              "1408         15\n",
              "524          16\n",
              "...         ...\n",
              "44238    158398\n",
              "5434     159510\n",
              "26797    169912\n",
              "129229   170597\n",
              "4835     179073\n",
              "\n",
              "[1474 rows x 1 columns]"
            ]
          },
          "metadata": {
            "tags": []
          },
          "execution_count": 153
        }
      ]
    },
    {
      "cell_type": "code",
      "metadata": {
        "id": "ruO2PrGb1gXr",
        "colab_type": "code",
        "colab": {}
      },
      "source": [
        "def hybrid(userId, title):\n",
        "    \"\"\"\n",
        "    uses user ratings + svd to sort content based \n",
        "    recommendations by predicted ratings from highest\n",
        "    down to lowest\n",
        "    \"\"\"\n",
        "    idx = indices[title]\n",
        "    \n",
        "    # gets the cosine similarity and sorts them all \n",
        "    # most similar (to \"title\")\n",
        "    scores = list(enumerate(cosine_sim[int(idx)]))\n",
        "    scores = sorted(scores, key=lambda x: x[1], reverse=True)\n",
        "    scores = scores[1:26]\n",
        "    m_indices = [i[0] for i in scores]\n",
        "\n",
        "    # takes the indices of the most similar movies and \n",
        "    # uses the fitted svd model to predict rating and sorts\n",
        "    # to send the highest to the top\n",
        "    mov = smd.iloc[m_indices][['title', 'id']]\n",
        "    mov['est'] = mov['id'].apply(lambda x: svd.predict(userId, x).est)\n",
        "    mov = mov.sort_values('est', ascending=False)\n",
        "\n",
        "    return mov.head(10)"
      ],
      "execution_count": 0,
      "outputs": []
    },
    {
      "cell_type": "code",
      "metadata": {
        "id": "o9UEWx_HSPXP",
        "colab_type": "code",
        "outputId": "a456dbb1-d3b0-4917-87bf-e4423ac25702",
        "colab": {
          "base_uri": "https://localhost:8080/",
          "height": 35
        }
      },
      "source": [
        "indices['TMNT (Teenage Mutant Ninja Turtles) (2007)']"
      ],
      "execution_count": 0,
      "outputs": [
        {
          "output_type": "execute_result",
          "data": {
            "text/plain": [
              "6448"
            ]
          },
          "metadata": {
            "tags": []
          },
          "execution_count": 66
        }
      ]
    },
    {
      "cell_type": "markdown",
      "metadata": {
        "id": "nt-Ejhsi_v9g",
        "colab_type": "text"
      },
      "source": [
        "### Results of Hybrid Model\n",
        "\n",
        "For \"Jurassic Park\" you get different recommendations for user #2 and #3"
      ]
    },
    {
      "cell_type": "code",
      "metadata": {
        "id": "Q-G_fBa81gXw",
        "colab_type": "code",
        "outputId": "0141bf51-81a7-4603-cdb4-a7e528b99ac7",
        "colab": {
          "base_uri": "https://localhost:8080/",
          "height": 363
        }
      },
      "source": [
        "hybrid(2, 'Jurassic Park (1993)')"
      ],
      "execution_count": 0,
      "outputs": [
        {
          "output_type": "execute_result",
          "data": {
            "text/html": [
              "<div>\n",
              "<style scoped>\n",
              "    .dataframe tbody tr th:only-of-type {\n",
              "        vertical-align: middle;\n",
              "    }\n",
              "\n",
              "    .dataframe tbody tr th {\n",
              "        vertical-align: top;\n",
              "    }\n",
              "\n",
              "    .dataframe thead th {\n",
              "        text-align: right;\n",
              "    }\n",
              "</style>\n",
              "<table border=\"1\" class=\"dataframe\">\n",
              "  <thead>\n",
              "    <tr style=\"text-align: right;\">\n",
              "      <th></th>\n",
              "      <th>title</th>\n",
              "      <th>id</th>\n",
              "      <th>est</th>\n",
              "    </tr>\n",
              "  </thead>\n",
              "  <tbody>\n",
              "    <tr>\n",
              "      <th>8681</th>\n",
              "      <td>Mad Max: Fury Road (2015)</td>\n",
              "      <td>122882</td>\n",
              "      <td>4.141148</td>\n",
              "    </tr>\n",
              "    <tr>\n",
              "      <th>1044</th>\n",
              "      <td>Star Trek: First Contact (1996)</td>\n",
              "      <td>1356</td>\n",
              "      <td>4.053966</td>\n",
              "    </tr>\n",
              "    <tr>\n",
              "      <th>2765</th>\n",
              "      <td>Road Warrior, The (Mad Max 2) (1981)</td>\n",
              "      <td>3703</td>\n",
              "      <td>4.009604</td>\n",
              "    </tr>\n",
              "    <tr>\n",
              "      <th>858</th>\n",
              "      <td>Escape from New York (1981)</td>\n",
              "      <td>1129</td>\n",
              "      <td>3.881543</td>\n",
              "    </tr>\n",
              "    <tr>\n",
              "      <th>856</th>\n",
              "      <td>Abyss, The (1989)</td>\n",
              "      <td>1127</td>\n",
              "      <td>3.833315</td>\n",
              "    </tr>\n",
              "    <tr>\n",
              "      <th>615</th>\n",
              "      <td>Independence Day (a.k.a. ID4) (1996)</td>\n",
              "      <td>780</td>\n",
              "      <td>3.817580</td>\n",
              "    </tr>\n",
              "    <tr>\n",
              "      <th>2193</th>\n",
              "      <td>Total Recall (1990)</td>\n",
              "      <td>2916</td>\n",
              "      <td>3.780283</td>\n",
              "    </tr>\n",
              "    <tr>\n",
              "      <th>1057</th>\n",
              "      <td>Star Trek II: The Wrath of Khan (1982)</td>\n",
              "      <td>1374</td>\n",
              "      <td>3.759745</td>\n",
              "    </tr>\n",
              "    <tr>\n",
              "      <th>4965</th>\n",
              "      <td>You Only Live Twice (1967)</td>\n",
              "      <td>7569</td>\n",
              "      <td>3.724447</td>\n",
              "    </tr>\n",
              "    <tr>\n",
              "      <th>3819</th>\n",
              "      <td>Spider-Man (2002)</td>\n",
              "      <td>5349</td>\n",
              "      <td>3.627381</td>\n",
              "    </tr>\n",
              "  </tbody>\n",
              "</table>\n",
              "</div>"
            ],
            "text/plain": [
              "                                       title      id       est\n",
              "8681               Mad Max: Fury Road (2015)  122882  4.141148\n",
              "1044         Star Trek: First Contact (1996)    1356  4.053966\n",
              "2765    Road Warrior, The (Mad Max 2) (1981)    3703  4.009604\n",
              "858              Escape from New York (1981)    1129  3.881543\n",
              "856                        Abyss, The (1989)    1127  3.833315\n",
              "615     Independence Day (a.k.a. ID4) (1996)     780  3.817580\n",
              "2193                     Total Recall (1990)    2916  3.780283\n",
              "1057  Star Trek II: The Wrath of Khan (1982)    1374  3.759745\n",
              "4965              You Only Live Twice (1967)    7569  3.724447\n",
              "3819                       Spider-Man (2002)    5349  3.627381"
            ]
          },
          "metadata": {
            "tags": []
          },
          "execution_count": 84
        }
      ]
    },
    {
      "cell_type": "code",
      "metadata": {
        "id": "oZKZDZNp_paU",
        "colab_type": "code",
        "outputId": "7d4bcc26-b953-408b-fd32-d59a2db16e3e",
        "colab": {
          "base_uri": "https://localhost:8080/",
          "height": 363
        }
      },
      "source": [
        "hybrid(3, 'Jurassic Park (1993)')"
      ],
      "execution_count": 0,
      "outputs": [
        {
          "output_type": "execute_result",
          "data": {
            "text/html": [
              "<div>\n",
              "<style scoped>\n",
              "    .dataframe tbody tr th:only-of-type {\n",
              "        vertical-align: middle;\n",
              "    }\n",
              "\n",
              "    .dataframe tbody tr th {\n",
              "        vertical-align: top;\n",
              "    }\n",
              "\n",
              "    .dataframe thead th {\n",
              "        text-align: right;\n",
              "    }\n",
              "</style>\n",
              "<table border=\"1\" class=\"dataframe\">\n",
              "  <thead>\n",
              "    <tr style=\"text-align: right;\">\n",
              "      <th></th>\n",
              "      <th>title</th>\n",
              "      <th>id</th>\n",
              "      <th>est</th>\n",
              "    </tr>\n",
              "  </thead>\n",
              "  <tbody>\n",
              "    <tr>\n",
              "      <th>2765</th>\n",
              "      <td>Road Warrior, The (Mad Max 2) (1981)</td>\n",
              "      <td>3703</td>\n",
              "      <td>3.843435</td>\n",
              "    </tr>\n",
              "    <tr>\n",
              "      <th>1044</th>\n",
              "      <td>Star Trek: First Contact (1996)</td>\n",
              "      <td>1356</td>\n",
              "      <td>3.090902</td>\n",
              "    </tr>\n",
              "    <tr>\n",
              "      <th>656</th>\n",
              "      <td>Escape from L.A. (1996)</td>\n",
              "      <td>849</td>\n",
              "      <td>3.032800</td>\n",
              "    </tr>\n",
              "    <tr>\n",
              "      <th>4965</th>\n",
              "      <td>You Only Live Twice (1967)</td>\n",
              "      <td>7569</td>\n",
              "      <td>2.918548</td>\n",
              "    </tr>\n",
              "    <tr>\n",
              "      <th>4334</th>\n",
              "      <td>X2: X-Men United (2003)</td>\n",
              "      <td>6333</td>\n",
              "      <td>2.851717</td>\n",
              "    </tr>\n",
              "    <tr>\n",
              "      <th>5265</th>\n",
              "      <td>I, Robot (2004)</td>\n",
              "      <td>8644</td>\n",
              "      <td>2.826190</td>\n",
              "    </tr>\n",
              "    <tr>\n",
              "      <th>1057</th>\n",
              "      <td>Star Trek II: The Wrath of Khan (1982)</td>\n",
              "      <td>1374</td>\n",
              "      <td>2.816335</td>\n",
              "    </tr>\n",
              "    <tr>\n",
              "      <th>858</th>\n",
              "      <td>Escape from New York (1981)</td>\n",
              "      <td>1129</td>\n",
              "      <td>2.762906</td>\n",
              "    </tr>\n",
              "    <tr>\n",
              "      <th>5931</th>\n",
              "      <td>War of the Worlds (2005)</td>\n",
              "      <td>34048</td>\n",
              "      <td>2.676813</td>\n",
              "    </tr>\n",
              "    <tr>\n",
              "      <th>856</th>\n",
              "      <td>Abyss, The (1989)</td>\n",
              "      <td>1127</td>\n",
              "      <td>2.668423</td>\n",
              "    </tr>\n",
              "  </tbody>\n",
              "</table>\n",
              "</div>"
            ],
            "text/plain": [
              "                                       title     id       est\n",
              "2765    Road Warrior, The (Mad Max 2) (1981)   3703  3.843435\n",
              "1044         Star Trek: First Contact (1996)   1356  3.090902\n",
              "656                  Escape from L.A. (1996)    849  3.032800\n",
              "4965              You Only Live Twice (1967)   7569  2.918548\n",
              "4334                 X2: X-Men United (2003)   6333  2.851717\n",
              "5265                         I, Robot (2004)   8644  2.826190\n",
              "1057  Star Trek II: The Wrath of Khan (1982)   1374  2.816335\n",
              "858              Escape from New York (1981)   1129  2.762906\n",
              "5931                War of the Worlds (2005)  34048  2.676813\n",
              "856                        Abyss, The (1989)   1127  2.668423"
            ]
          },
          "metadata": {
            "tags": []
          },
          "execution_count": 85
        }
      ]
    },
    {
      "cell_type": "code",
      "metadata": {
        "id": "kaRu-G9Q1gX2",
        "colab_type": "code",
        "outputId": "2461e7a8-72d7-4fd7-f7c7-04461a900b13",
        "colab": {
          "base_uri": "https://localhost:8080/",
          "height": 363
        }
      },
      "source": [
        "hybrid(2, 'Aladdin (1992)')"
      ],
      "execution_count": 0,
      "outputs": [
        {
          "output_type": "execute_result",
          "data": {
            "text/html": [
              "<div>\n",
              "<style scoped>\n",
              "    .dataframe tbody tr th:only-of-type {\n",
              "        vertical-align: middle;\n",
              "    }\n",
              "\n",
              "    .dataframe tbody tr th {\n",
              "        vertical-align: top;\n",
              "    }\n",
              "\n",
              "    .dataframe thead th {\n",
              "        text-align: right;\n",
              "    }\n",
              "</style>\n",
              "<table border=\"1\" class=\"dataframe\">\n",
              "  <thead>\n",
              "    <tr style=\"text-align: right;\">\n",
              "      <th></th>\n",
              "      <th>title</th>\n",
              "      <th>id</th>\n",
              "      <th>est</th>\n",
              "    </tr>\n",
              "  </thead>\n",
              "  <tbody>\n",
              "    <tr>\n",
              "      <th>4360</th>\n",
              "      <td>Finding Nemo (2003)</td>\n",
              "      <td>6377</td>\n",
              "      <td>4.376036</td>\n",
              "    </tr>\n",
              "    <tr>\n",
              "      <th>8275</th>\n",
              "      <td>All Dogs Christmas Carol, An (1998)</td>\n",
              "      <td>105540</td>\n",
              "      <td>3.828176</td>\n",
              "    </tr>\n",
              "    <tr>\n",
              "      <th>6015</th>\n",
              "      <td>Wallace &amp; Gromit in The Curse of the Were-Rabb...</td>\n",
              "      <td>38038</td>\n",
              "      <td>3.807093</td>\n",
              "    </tr>\n",
              "    <tr>\n",
              "      <th>2287</th>\n",
              "      <td>Robin Hood (1973)</td>\n",
              "      <td>3034</td>\n",
              "      <td>3.780194</td>\n",
              "    </tr>\n",
              "    <tr>\n",
              "      <th>1543</th>\n",
              "      <td>Jungle Book, The (1967)</td>\n",
              "      <td>2078</td>\n",
              "      <td>3.747368</td>\n",
              "    </tr>\n",
              "    <tr>\n",
              "      <th>1177</th>\n",
              "      <td>Hercules (1997)</td>\n",
              "      <td>1566</td>\n",
              "      <td>3.708163</td>\n",
              "    </tr>\n",
              "    <tr>\n",
              "      <th>5666</th>\n",
              "      <td>Lion King 1½, The (2004)</td>\n",
              "      <td>27619</td>\n",
              "      <td>3.690446</td>\n",
              "    </tr>\n",
              "    <tr>\n",
              "      <th>3745</th>\n",
              "      <td>Ice Age (2002)</td>\n",
              "      <td>5218</td>\n",
              "      <td>3.671226</td>\n",
              "    </tr>\n",
              "    <tr>\n",
              "      <th>6205</th>\n",
              "      <td>Over the Hedge (2006)</td>\n",
              "      <td>45431</td>\n",
              "      <td>3.642699</td>\n",
              "    </tr>\n",
              "    <tr>\n",
              "      <th>6696</th>\n",
              "      <td>Horton Hears a Who! (2008)</td>\n",
              "      <td>58299</td>\n",
              "      <td>3.575727</td>\n",
              "    </tr>\n",
              "  </tbody>\n",
              "</table>\n",
              "</div>"
            ],
            "text/plain": [
              "                                                  title      id       est\n",
              "4360                                Finding Nemo (2003)    6377  4.376036\n",
              "8275                All Dogs Christmas Carol, An (1998)  105540  3.828176\n",
              "6015  Wallace & Gromit in The Curse of the Were-Rabb...   38038  3.807093\n",
              "2287                                  Robin Hood (1973)    3034  3.780194\n",
              "1543                            Jungle Book, The (1967)    2078  3.747368\n",
              "1177                                    Hercules (1997)    1566  3.708163\n",
              "5666                           Lion King 1½, The (2004)   27619  3.690446\n",
              "3745                                     Ice Age (2002)    5218  3.671226\n",
              "6205                              Over the Hedge (2006)   45431  3.642699\n",
              "6696                         Horton Hears a Who! (2008)   58299  3.575727"
            ]
          },
          "metadata": {
            "tags": []
          },
          "execution_count": 86
        }
      ]
    },
    {
      "cell_type": "code",
      "metadata": {
        "id": "9G0C4IkXADWQ",
        "colab_type": "code",
        "outputId": "a2900ce1-a1fd-43ac-c802-15d11c0c4ccd",
        "colab": {
          "base_uri": "https://localhost:8080/",
          "height": 363
        }
      },
      "source": [
        "hybrid(45, 'Aladdin (1992)')"
      ],
      "execution_count": 0,
      "outputs": [
        {
          "output_type": "execute_result",
          "data": {
            "text/html": [
              "<div>\n",
              "<style scoped>\n",
              "    .dataframe tbody tr th:only-of-type {\n",
              "        vertical-align: middle;\n",
              "    }\n",
              "\n",
              "    .dataframe tbody tr th {\n",
              "        vertical-align: top;\n",
              "    }\n",
              "\n",
              "    .dataframe thead th {\n",
              "        text-align: right;\n",
              "    }\n",
              "</style>\n",
              "<table border=\"1\" class=\"dataframe\">\n",
              "  <thead>\n",
              "    <tr style=\"text-align: right;\">\n",
              "      <th></th>\n",
              "      <th>title</th>\n",
              "      <th>id</th>\n",
              "      <th>est</th>\n",
              "    </tr>\n",
              "  </thead>\n",
              "  <tbody>\n",
              "    <tr>\n",
              "      <th>4360</th>\n",
              "      <td>Finding Nemo (2003)</td>\n",
              "      <td>6377</td>\n",
              "      <td>4.399013</td>\n",
              "    </tr>\n",
              "    <tr>\n",
              "      <th>1543</th>\n",
              "      <td>Jungle Book, The (1967)</td>\n",
              "      <td>2078</td>\n",
              "      <td>4.390593</td>\n",
              "    </tr>\n",
              "    <tr>\n",
              "      <th>6015</th>\n",
              "      <td>Wallace &amp; Gromit in The Curse of the Were-Rabb...</td>\n",
              "      <td>38038</td>\n",
              "      <td>4.301428</td>\n",
              "    </tr>\n",
              "    <tr>\n",
              "      <th>1757</th>\n",
              "      <td>Bug's Life, A (1998)</td>\n",
              "      <td>2355</td>\n",
              "      <td>4.271374</td>\n",
              "    </tr>\n",
              "    <tr>\n",
              "      <th>5666</th>\n",
              "      <td>Lion King 1½, The (2004)</td>\n",
              "      <td>27619</td>\n",
              "      <td>4.258307</td>\n",
              "    </tr>\n",
              "    <tr>\n",
              "      <th>5160</th>\n",
              "      <td>Shrek 2 (2004)</td>\n",
              "      <td>8360</td>\n",
              "      <td>4.167289</td>\n",
              "    </tr>\n",
              "    <tr>\n",
              "      <th>3745</th>\n",
              "      <td>Ice Age (2002)</td>\n",
              "      <td>5218</td>\n",
              "      <td>4.028209</td>\n",
              "    </tr>\n",
              "    <tr>\n",
              "      <th>6696</th>\n",
              "      <td>Horton Hears a Who! (2008)</td>\n",
              "      <td>58299</td>\n",
              "      <td>3.996429</td>\n",
              "    </tr>\n",
              "    <tr>\n",
              "      <th>3727</th>\n",
              "      <td>Ferngully: The Last Rainforest (1992)</td>\n",
              "      <td>5159</td>\n",
              "      <td>3.995498</td>\n",
              "    </tr>\n",
              "    <tr>\n",
              "      <th>5901</th>\n",
              "      <td>Madagascar (2005)</td>\n",
              "      <td>33615</td>\n",
              "      <td>3.982810</td>\n",
              "    </tr>\n",
              "  </tbody>\n",
              "</table>\n",
              "</div>"
            ],
            "text/plain": [
              "                                                  title     id       est\n",
              "4360                                Finding Nemo (2003)   6377  4.399013\n",
              "1543                            Jungle Book, The (1967)   2078  4.390593\n",
              "6015  Wallace & Gromit in The Curse of the Were-Rabb...  38038  4.301428\n",
              "1757                               Bug's Life, A (1998)   2355  4.271374\n",
              "5666                           Lion King 1½, The (2004)  27619  4.258307\n",
              "5160                                     Shrek 2 (2004)   8360  4.167289\n",
              "3745                                     Ice Age (2002)   5218  4.028209\n",
              "6696                         Horton Hears a Who! (2008)  58299  3.996429\n",
              "3727              Ferngully: The Last Rainforest (1992)   5159  3.995498\n",
              "5901                                  Madagascar (2005)  33615  3.982810"
            ]
          },
          "metadata": {
            "tags": []
          },
          "execution_count": 90
        }
      ]
    },
    {
      "cell_type": "markdown",
      "metadata": {
        "id": "Fn72ujs41gYA",
        "colab_type": "text"
      },
      "source": [
        "We see that for our hybrid recommender, we get different recommendations for different users although the movie is the same. Hence, our recommendations are more personalized and tailored towards particular users."
      ]
    },
    {
      "cell_type": "code",
      "metadata": {
        "id": "zCAu9ftt1gYC",
        "colab_type": "code",
        "outputId": "75a88746-a286-4436-c751-9e3da839eb84",
        "colab": {
          "base_uri": "https://localhost:8080/",
          "height": 206
        }
      },
      "source": [
        "smd.head()"
      ],
      "execution_count": 0,
      "outputs": [
        {
          "output_type": "execute_result",
          "data": {
            "text/html": [
              "<div>\n",
              "<style scoped>\n",
              "    .dataframe tbody tr th:only-of-type {\n",
              "        vertical-align: middle;\n",
              "    }\n",
              "\n",
              "    .dataframe tbody tr th {\n",
              "        vertical-align: top;\n",
              "    }\n",
              "\n",
              "    .dataframe thead th {\n",
              "        text-align: right;\n",
              "    }\n",
              "</style>\n",
              "<table border=\"1\" class=\"dataframe\">\n",
              "  <thead>\n",
              "    <tr style=\"text-align: right;\">\n",
              "      <th></th>\n",
              "      <th>movieId</th>\n",
              "      <th>title</th>\n",
              "      <th>genres</th>\n",
              "      <th>description</th>\n",
              "      <th>id</th>\n",
              "    </tr>\n",
              "  </thead>\n",
              "  <tbody>\n",
              "    <tr>\n",
              "      <th>0</th>\n",
              "      <td>1</td>\n",
              "      <td>Toy Story (1995)</td>\n",
              "      <td>Adventure Animation Children Comedy Fantasy</td>\n",
              "      <td>Adventure Animation Children Comedy Fantasy</td>\n",
              "      <td>1</td>\n",
              "    </tr>\n",
              "    <tr>\n",
              "      <th>1</th>\n",
              "      <td>2</td>\n",
              "      <td>Jumanji (1995)</td>\n",
              "      <td>Adventure Children Fantasy</td>\n",
              "      <td>Adventure Children Fantasy</td>\n",
              "      <td>2</td>\n",
              "    </tr>\n",
              "    <tr>\n",
              "      <th>2</th>\n",
              "      <td>3</td>\n",
              "      <td>Grumpier Old Men (1995)</td>\n",
              "      <td>Comedy Romance</td>\n",
              "      <td>Comedy Romance</td>\n",
              "      <td>3</td>\n",
              "    </tr>\n",
              "    <tr>\n",
              "      <th>3</th>\n",
              "      <td>4</td>\n",
              "      <td>Waiting to Exhale (1995)</td>\n",
              "      <td>Comedy Drama Romance</td>\n",
              "      <td>Comedy Drama Romance</td>\n",
              "      <td>4</td>\n",
              "    </tr>\n",
              "    <tr>\n",
              "      <th>4</th>\n",
              "      <td>5</td>\n",
              "      <td>Father of the Bride Part II (1995)</td>\n",
              "      <td>Comedy</td>\n",
              "      <td>Comedy</td>\n",
              "      <td>5</td>\n",
              "    </tr>\n",
              "  </tbody>\n",
              "</table>\n",
              "</div>"
            ],
            "text/plain": [
              "   movieId  ... id\n",
              "0        1  ...  1\n",
              "1        2  ...  2\n",
              "2        3  ...  3\n",
              "3        4  ...  4\n",
              "4        5  ...  5\n",
              "\n",
              "[5 rows x 5 columns]"
            ]
          },
          "metadata": {
            "tags": []
          },
          "execution_count": 156
        }
      ]
    }
  ]
}